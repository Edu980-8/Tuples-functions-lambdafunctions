{
 "cells": [
  {
   "cell_type": "code",
   "execution_count": 1,
   "id": "dc681794",
   "metadata": {},
   "outputs": [
    {
     "data": {
      "text/plain": [
       "(1, 2, 3, 4, 5, 6)"
      ]
     },
     "execution_count": 1,
     "metadata": {},
     "output_type": "execute_result"
    }
   ],
   "source": [
    "tup1 = (1,2,3)\n",
    "tup2 = (4,5,6)\n",
    "tup3 = tup1+tup2\n",
    "tup3"
   ]
  },
  {
   "cell_type": "code",
   "execution_count": 2,
   "id": "5020422c",
   "metadata": {},
   "outputs": [],
   "source": [
    "tup4 = tup1*3"
   ]
  },
  {
   "cell_type": "code",
   "execution_count": 3,
   "id": "5316b4cf",
   "metadata": {},
   "outputs": [
    {
     "data": {
      "text/plain": [
       "(1, 2, 3, 1, 2, 3, 1, 2, 3)"
      ]
     },
     "execution_count": 3,
     "metadata": {},
     "output_type": "execute_result"
    }
   ],
   "source": [
    "tup4"
   ]
  },
  {
   "cell_type": "code",
   "execution_count": 4,
   "id": "6e51eaaf",
   "metadata": {},
   "outputs": [
    {
     "data": {
      "text/plain": [
       "4"
      ]
     },
     "execution_count": 4,
     "metadata": {},
     "output_type": "execute_result"
    }
   ],
   "source": [
    "min(tup2)"
   ]
  },
  {
   "cell_type": "code",
   "execution_count": 5,
   "id": "fd92dc67",
   "metadata": {},
   "outputs": [
    {
     "data": {
      "text/plain": [
       "6"
      ]
     },
     "execution_count": 5,
     "metadata": {},
     "output_type": "execute_result"
    }
   ],
   "source": [
    "max(tup2)"
   ]
  },
  {
   "cell_type": "code",
   "execution_count": 18,
   "id": "3faebeff",
   "metadata": {},
   "outputs": [
    {
     "name": "stdout",
     "output_type": "stream",
     "text": [
      "['a', 'b', 'c', 'd', 'AA']\n",
      "\n",
      "['a', 'b', 'c', 'd', 'AA', 'e']\n"
     ]
    }
   ],
   "source": [
    "lista = [\"a\",\"b\",\"c\",\"d\"]\n",
    "lista.insert(4,\"AA\")\n",
    "print(f\"{lista}\\n\")\n",
    "lista.append(\"e\")\n",
    "print(lista)\n"
   ]
  },
  {
   "cell_type": "code",
   "execution_count": 19,
   "id": "008a86ef",
   "metadata": {},
   "outputs": [],
   "source": [
    "lista.sort()"
   ]
  },
  {
   "cell_type": "code",
   "execution_count": 21,
   "id": "3ef076ed",
   "metadata": {},
   "outputs": [
    {
     "data": {
      "text/plain": [
       "['AA', 'a', 'b', 'c', 'd', 'e']"
      ]
     },
     "execution_count": 21,
     "metadata": {},
     "output_type": "execute_result"
    }
   ],
   "source": [
    "lista"
   ]
  },
  {
   "cell_type": "code",
   "execution_count": 22,
   "id": "0aaa7a2c",
   "metadata": {},
   "outputs": [
    {
     "data": {
      "text/plain": [
       "['AA',\n",
       " 'a',\n",
       " 'b',\n",
       " 'c',\n",
       " 'd',\n",
       " 'e',\n",
       " 'AA',\n",
       " 'a',\n",
       " 'b',\n",
       " 'c',\n",
       " 'd',\n",
       " 'e',\n",
       " 'AA',\n",
       " 'a',\n",
       " 'b',\n",
       " 'c',\n",
       " 'd',\n",
       " 'e']"
      ]
     },
     "execution_count": 22,
     "metadata": {},
     "output_type": "execute_result"
    }
   ],
   "source": [
    "lista*3"
   ]
  },
  {
   "cell_type": "code",
   "execution_count": 23,
   "id": "1cd4b14c",
   "metadata": {},
   "outputs": [
    {
     "data": {
      "text/plain": [
       "['AA', 'a', 'b', 'c', 'd', 'e', 'AA', 'a', 'b', 'c', 'd', 'e']"
      ]
     },
     "execution_count": 23,
     "metadata": {},
     "output_type": "execute_result"
    }
   ],
   "source": [
    "lista+lista"
   ]
  },
  {
   "cell_type": "code",
   "execution_count": 24,
   "id": "e4d25526",
   "metadata": {},
   "outputs": [],
   "source": [
    "diccionario={\"Manzana\":3,\n",
    "            \"Pera\":5,\n",
    "            \"Banano\":10}"
   ]
  },
  {
   "cell_type": "code",
   "execution_count": 25,
   "id": "86ee7b36",
   "metadata": {},
   "outputs": [
    {
     "data": {
      "text/plain": [
       "{'Manzana': 3, 'Pera': 5, 'Banano': 10}"
      ]
     },
     "execution_count": 25,
     "metadata": {},
     "output_type": "execute_result"
    }
   ],
   "source": [
    "diccionario"
   ]
  },
  {
   "cell_type": "code",
   "execution_count": 26,
   "id": "437716f4",
   "metadata": {},
   "outputs": [
    {
     "data": {
      "text/plain": [
       "{'Manzana': 3, 'Pera': 5, 'Banano': 10, 'Patata': 200}"
      ]
     },
     "execution_count": 26,
     "metadata": {},
     "output_type": "execute_result"
    }
   ],
   "source": [
    "diccionario2 = {\"Patata\":200}\n",
    "diccionario.update(diccionario2)\n",
    "diccionario"
   ]
  },
  {
   "cell_type": "code",
   "execution_count": 27,
   "id": "f88d0627",
   "metadata": {},
   "outputs": [
    {
     "data": {
      "text/plain": [
       "5"
      ]
     },
     "execution_count": 27,
     "metadata": {},
     "output_type": "execute_result"
    }
   ],
   "source": [
    "borrado = diccionario.pop(\"Pera\")\n",
    "borrado"
   ]
  },
  {
   "cell_type": "code",
   "execution_count": 28,
   "id": "dc824f75",
   "metadata": {},
   "outputs": [
    {
     "data": {
      "text/plain": [
       "{'Manzana': 3, 'Banano': 10, 'Patata': 200}"
      ]
     },
     "execution_count": 28,
     "metadata": {},
     "output_type": "execute_result"
    }
   ],
   "source": [
    "diccionario"
   ]
  },
  {
   "cell_type": "code",
   "execution_count": 29,
   "id": "b224eb1c",
   "metadata": {},
   "outputs": [
    {
     "name": "stdout",
     "output_type": "stream",
     "text": [
      "apple\n",
      "banana\n",
      "orange\n"
     ]
    }
   ],
   "source": [
    "l1=[\"apple\",\"banana\",\"orange\"]\n",
    "for i in l1:\n",
    "    print(i)"
   ]
  },
  {
   "cell_type": "code",
   "execution_count": 31,
   "id": "fb5011b6",
   "metadata": {},
   "outputs": [
    {
     "name": "stdout",
     "output_type": "stream",
     "text": [
      "orange book\n",
      "orange chair\n",
      "orange phone\n",
      "blue book\n",
      "blue chair\n",
      "blue phone\n",
      "green book\n",
      "green chair\n",
      "green phone\n"
     ]
    }
   ],
   "source": [
    "l1 = [\"orange\",\"blue\",\"green\"]\n",
    "l2 = [\"book\",\"chair\",\"phone\"]\n",
    "for i in l1:\n",
    "    for j in l2:\n",
    "        print(i,j)"
   ]
  },
  {
   "cell_type": "code",
   "execution_count": 47,
   "id": "cb1111f8",
   "metadata": {},
   "outputs": [
    {
     "name": "stdout",
     "output_type": "stream",
     "text": [
      "Ingrese su numero, la aplicacion le indicará si es par o impar: 5\n",
      "The number 5.0 is odd\n"
     ]
    }
   ],
   "source": [
    "number = float(input(\"Ingrese su numero, la aplicacion le indicará si es par o impar: \"))\n",
    "def even_odd(number):\n",
    "    if(number%2 == 0):\n",
    "        print(f\"The number {number} is even\")\n",
    "    else:\n",
    "        print(f\"The number {number} is odd\")\n",
    "\n",
    "even_odd(number)    \n"
   ]
  },
  {
   "cell_type": "code",
   "execution_count": 49,
   "id": "e2a539aa",
   "metadata": {},
   "outputs": [
    {
     "name": "stdout",
     "output_type": "stream",
     "text": [
      "Ingrese su numero, la aplicacion le indicará si es positivo, negativo o cero: 85\n",
      "The number 85.0 is positive\n"
     ]
    }
   ],
   "source": [
    "number = float(input(\"Ingrese su numero, la aplicacion le indicará si es positivo, negativo o cero: \"))\n",
    "def neg_pos_zero(number):\n",
    "    if(number < 0):\n",
    "        print(f\"The number {number} is negative\")\n",
    "    elif (number > 0):\n",
    "        print(f\"The number {number} is positive\")\n",
    "    else:\n",
    "        print(f\"The number is {number}\")\n",
    "\n",
    "neg_pos_zero(number)  "
   ]
  },
  {
   "cell_type": "code",
   "execution_count": 18,
   "id": "ec204f28",
   "metadata": {},
   "outputs": [
    {
     "name": "stdout",
     "output_type": "stream",
     "text": [
      "Ingrese un numero entero, la aplicacion le indicará su factorial: 5.1\n",
      "El factorial  a partir de la funcion gamma es: 27.93175373836837\n"
     ]
    }
   ],
   "source": [
    "\n",
    "import math as mt\n",
    "number = float(input(\"Ingrese un numero entero, la aplicacion le indicará su factorial: \"))\n",
    "factorial=1\n",
    "def fact_int_number(number):\n",
    "    global factorial\n",
    "    if(number <0):\n",
    "        print(\"El factorial no esta definido para numeros negativos\")\n",
    "    elif(number==0):\n",
    "        print(\"El factorial de 0 es 1\")\n",
    "    elif ((number%1 != 0) == True):\n",
    "        factorial = mt.gamma(number) \n",
    "        print(f\"El factorial  a partir de la funcion gamma es: {factorial}\")\n",
    "    elif(number.is_integer()):\n",
    "        print(number)\n",
    "        for i in range(1, int(number)+1):\n",
    "            factorial = factorial*i\n",
    "        print(f\"El Factorial de {number} es {factorial}\")\n",
    "fact_int_number(number)\n",
    "    "
   ]
  },
  {
   "cell_type": "code",
   "execution_count": 39,
   "id": "de4a7376",
   "metadata": {},
   "outputs": [
    {
     "name": "stdout",
     "output_type": "stream",
     "text": [
      "Ingrese su numero entero:1221\n",
      "El numero original es: 1221\n",
      "El numero al reves es: 1221\n",
      "          \n",
      "<class 'int'>\n",
      "Palindromo!!!!\n"
     ]
    }
   ],
   "source": [
    "number= input(\"Ingrese su numero entero:\")\n",
    "if (any(number.isdigit() for char in number)):\n",
    "    number2_str = number[::-1]\n",
    "    print(f'''El numero original es: {number}\\nEl numero al reves es: {number2_str}\n",
    "          ''')\n",
    "    number2 = int(number2_str)\n",
    "    print(type(number2))\n",
    "    \n",
    "else:\n",
    "    print(\"El valor ingresado no fue un numero entero\")\n",
    "    \n",
    "def palindromo(number):\n",
    "    if(number == number[::-1]):\n",
    "        print(\"Palindromo!!!!\")\n",
    "    else:\n",
    "        print(\"No es palindromo!!!\")\n",
    "palindromo(number)\n"
   ]
  },
  {
   "cell_type": "code",
   "execution_count": 45,
   "id": "f6dff186",
   "metadata": {},
   "outputs": [
    {
     "name": "stdout",
     "output_type": "stream",
     "text": [
      "343.0\n"
     ]
    }
   ],
   "source": [
    "g = lambda x:mt.pow(x,3) # g = lambda parametro:operacion\n",
    "print(g(7))"
   ]
  },
  {
   "cell_type": "code",
   "execution_count": null,
   "id": "80b24722",
   "metadata": {},
   "outputs": [],
   "source": []
  }
 ],
 "metadata": {
  "kernelspec": {
   "display_name": "Python 3 (ipykernel)",
   "language": "python",
   "name": "python3"
  },
  "language_info": {
   "codemirror_mode": {
    "name": "ipython",
    "version": 3
   },
   "file_extension": ".py",
   "mimetype": "text/x-python",
   "name": "python",
   "nbconvert_exporter": "python",
   "pygments_lexer": "ipython3",
   "version": "3.9.13"
  }
 },
 "nbformat": 4,
 "nbformat_minor": 5
}
